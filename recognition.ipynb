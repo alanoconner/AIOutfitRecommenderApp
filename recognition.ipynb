{
 "cells": [
  {
   "cell_type": "code",
   "execution_count": 3,
   "id": "initial_id",
   "metadata": {
    "collapsed": true,
    "ExecuteTime": {
     "end_time": "2024-06-29T13:41:51.532749Z",
     "start_time": "2024-06-29T13:41:51.501971Z"
    }
   },
   "outputs": [
    {
     "data": {
      "text/plain": "ApparelModel(\n  (conv_layers): Sequential(\n    (0): Conv2d(3, 512, kernel_size=(3, 3), stride=(1, 1))\n    (1): ReLU()\n    (2): BatchNorm2d(512, eps=1e-05, momentum=0.1, affine=True, track_running_stats=True)\n    (3): MaxPool2d(kernel_size=2, stride=2, padding=0, dilation=1, ceil_mode=False)\n    (4): Dropout(p=0.2, inplace=False)\n    (5): Conv2d(512, 256, kernel_size=(3, 3), stride=(1, 1))\n    (6): ReLU()\n    (7): BatchNorm2d(256, eps=1e-05, momentum=0.1, affine=True, track_running_stats=True)\n    (8): MaxPool2d(kernel_size=2, stride=2, padding=0, dilation=1, ceil_mode=False)\n    (9): Dropout(p=0.2, inplace=False)\n    (10): Conv2d(256, 128, kernel_size=(3, 3), stride=(1, 1))\n    (11): ReLU()\n    (12): BatchNorm2d(128, eps=1e-05, momentum=0.1, affine=True, track_running_stats=True)\n    (13): MaxPool2d(kernel_size=2, stride=2, padding=0, dilation=1, ceil_mode=False)\n    (14): Dropout(p=0.2, inplace=False)\n    (15): Conv2d(128, 128, kernel_size=(3, 3), stride=(1, 1))\n    (16): ReLU()\n    (17): BatchNorm2d(128, eps=1e-05, momentum=0.1, affine=True, track_running_stats=True)\n    (18): MaxPool2d(kernel_size=2, stride=2, padding=0, dilation=1, ceil_mode=False)\n  )\n  (fc_layers): Sequential(\n    (0): Flatten(start_dim=1, end_dim=-1)\n    (1): Linear(in_features=25088, out_features=64, bias=True)\n    (2): ReLU()\n    (3): BatchNorm1d(64, eps=1e-05, momentum=0.1, affine=True, track_running_stats=True)\n    (4): Dropout(p=0.2, inplace=False)\n    (5): Linear(in_features=64, out_features=37, bias=True)\n    (6): Softmax(dim=1)\n  )\n)"
     },
     "execution_count": 3,
     "metadata": {},
     "output_type": "execute_result"
    }
   ],
   "source": [
    "import torch\n",
    "import torch.nn as nn\n",
    "from torchvision import transforms\n",
    "from PIL import Image\n",
    "\n",
    "class ApparelModel(nn.Module):\n",
    "    def __init__(self):\n",
    "        super(ApparelModel, self).__init__()\n",
    "        self.conv_layers = nn.Sequential(\n",
    "            nn.Conv2d(3, 512, kernel_size=3),\n",
    "            nn.ReLU(),\n",
    "            nn.BatchNorm2d(512),\n",
    "            nn.MaxPool2d(2),\n",
    "            nn.Dropout(0.2),\n",
    "            nn.Conv2d(512, 256, kernel_size=3),\n",
    "            nn.ReLU(),\n",
    "            nn.BatchNorm2d(256),\n",
    "            nn.MaxPool2d(2),\n",
    "            nn.Dropout(0.2),\n",
    "            nn.Conv2d(256, 128, kernel_size=3),\n",
    "            nn.ReLU(),\n",
    "            nn.BatchNorm2d(128),\n",
    "            nn.MaxPool2d(2),\n",
    "            nn.Dropout(0.2),\n",
    "            nn.Conv2d(128, 128, kernel_size=3),\n",
    "            nn.ReLU(),\n",
    "            nn.BatchNorm2d(128),\n",
    "            nn.MaxPool2d(2)\n",
    "        )\n",
    "        self.fc_layers = nn.Sequential(\n",
    "            nn.Flatten(),\n",
    "            nn.Linear(128 * 14 * 14, 64),\n",
    "            nn.ReLU(),\n",
    "            nn.BatchNorm1d(64),\n",
    "            nn.Dropout(0.2),\n",
    "            nn.Linear(64, 37),\n",
    "            nn.Softmax(dim=1)\n",
    "        )\n",
    "\n",
    "    def forward(self, x):\n",
    "        x = self.conv_layers(x)\n",
    "        x = self.fc_layers(x)\n",
    "        return x\n",
    "\n",
    "# Load the model\n",
    "model = ApparelModel()\n",
    "model.load_state_dict(torch.load('recognition-models/model_checkpoint_v2.pth', map_location=torch.device('cpu')))\n",
    "# model.load_state_dict(torch.load('model_checkpoint.pth', map_location=torch.device('cpu')))\n",
    "model.eval()  # Set model to evaluation mode\n"
   ]
  },
  {
   "cell_type": "code",
   "outputs": [],
   "source": [
    "# Define the image preprocessing transformations\n",
    "preprocess = transforms.Compose([\n",
    "    transforms.Resize((256, 256)),  # Resize to match the expected input size (assuming it's 224x224)\n",
    "    transforms.ToTensor(),\n",
    "    transforms.Normalize(mean=[0.485, 0.456, 0.406], std=[0.229, 0.224, 0.225])\n",
    "])\n",
    "\n",
    "# Load and preprocess the image\n",
    "def load_image(image_path):\n",
    "    image = Image.open(image_path)\n",
    "    image = preprocess(image)\n",
    "    image = image.unsqueeze(0)\n",
    "    return image\n",
    "\n",
    "# Path to your image\n",
    "image_path = 'test-images/IMG_7247.jpeg'\n",
    "image = load_image(image_path)\n"
   ],
   "metadata": {
    "collapsed": false,
    "ExecuteTime": {
     "end_time": "2024-06-29T13:41:55.398008Z",
     "start_time": "2024-06-29T13:41:55.264340Z"
    }
   },
   "id": "6c20f70f18eb2cc4",
   "execution_count": 4
  },
  {
   "cell_type": "code",
   "outputs": [
    {
     "name": "stdout",
     "output_type": "stream",
     "text": [
      "dress/\n"
     ]
    }
   ],
   "source": [
    "# Make predictions\n",
    "with torch.no_grad():\n",
    "    output = model(image)\n",
    "\n",
    "# Get the predicted class\n",
    "_, predicted_class = torch.max(output, 1)\n",
    "\n",
    "# class_names = [\n",
    "#     \"black dress/\",\n",
    "#     \"black pants/\",\n",
    "#     \"black shirt/\",\n",
    "#     \"black shoes/\",\n",
    "#     \"black shorts/\",\n",
    "#     \"black suit/\",\n",
    "#     \"blue dress/\",\n",
    "#     \"blue pants/\",\n",
    "#     \"blue shirt/\",\n",
    "#     \"blue shoes/\",\n",
    "#     \"blue shorts\",\n",
    "#     \"brown hoodie\",\n",
    "#     \"brown pants/\",\n",
    "#     \"brown shoes/\",\n",
    "#     \"green pants/\",\n",
    "#     \"green shirt/\",\n",
    "#     \"green shoes/\",\n",
    "#     \"green shorts/\",\n",
    "#     \"green suit/\",\n",
    "#     \"pink hoodie/\",\n",
    "#     \"pink pants/\",\n",
    "#     \"pink skirt/\",\n",
    "#     \"red dress/\",\n",
    "#     \"red hoodie/\",\n",
    "#     \"red pants/\",\n",
    "#     \"red shirt/\",\n",
    "#     \"red shoes/\",\n",
    "#     \"silver shoes\",\n",
    "#     \"silver skirt/\",\n",
    "#     \"white dress/\",\n",
    "#     \"white pants/\",\n",
    "#     \"white shirt/\",\n",
    "#     \"white shoes/\",\n",
    "#     \"white shorts/\",\n",
    "#     \"white suit/\",\n",
    "#     \"yellow dress/\",\n",
    "#     \"yellow shoes/\",\n",
    "#     \"yellow shirt/\"\n",
    "# ]\n",
    "\n",
    "class_names = [\n",
    "    \"dress/\",\n",
    "    \"hoodie/\",\n",
    "    \"pants/\",\n",
    "    \"shirt/\",\n",
    "    \"shoes/\",\n",
    "    \"shorts/\",\n",
    "    \"skirt/\",\n",
    "    \"suit/\",\n",
    "]\n",
    "\n",
    "predicted_class_name = class_names[predicted_class.item()]\n",
    "\n",
    "print(predicted_class_name)\n"
   ],
   "metadata": {
    "collapsed": false,
    "ExecuteTime": {
     "end_time": "2024-06-29T13:41:57.526951Z",
     "start_time": "2024-06-29T13:41:57.305120Z"
    }
   },
   "id": "eb7b47d337dfa989",
   "execution_count": 5
  },
  {
   "cell_type": "code",
   "outputs": [],
   "source": [],
   "metadata": {
    "collapsed": false
   },
   "id": "f7638ac335d818d5"
  }
 ],
 "metadata": {
  "kernelspec": {
   "display_name": "Python 3",
   "language": "python",
   "name": "python3"
  },
  "language_info": {
   "codemirror_mode": {
    "name": "ipython",
    "version": 2
   },
   "file_extension": ".py",
   "mimetype": "text/x-python",
   "name": "python",
   "nbconvert_exporter": "python",
   "pygments_lexer": "ipython2",
   "version": "2.7.6"
  }
 },
 "nbformat": 4,
 "nbformat_minor": 5
}
